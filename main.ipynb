{
 "cells": [
  {
   "cell_type": "markdown",
   "metadata": {},
   "source": [
    "## Business Intelligence 🔎"
   ]
  },
  {
   "cell_type": "code",
   "execution_count": 1,
   "metadata": {
    "ExecuteTime": {
     "end_time": "2024-12-14T16:28:20.382161200Z",
     "start_time": "2024-12-14T16:28:11.280420700Z"
    }
   },
   "outputs": [],
   "source": [
    "import pandas as pd\n",
    "import numpy as np\n",
    "import pandas as pd\n",
    "from matplotlib import pyplot as plt\n",
    "from scipy import stats\n",
    "from sklearn.dummy import DummyClassifier\n",
    "from sklearn.model_selection import train_test_split\n",
    "from sklearn.ensemble import RandomForestClassifier\n",
    "from sklearn.metrics import accuracy_score, classification_report, roc_auc_score, roc_curve\n",
    "from sklearn.preprocessing import LabelEncoder\n",
    "import matplotlib.pyplot as plt\n",
    "from sklearn.metrics import roc_curve, roc_auc_score\n"
   ]
  },
  {
   "cell_type": "code",
   "execution_count": 2,
   "metadata": {
    "ExecuteTime": {
     "end_time": "2024-12-14T16:28:20.445101900Z",
     "start_time": "2024-12-14T16:28:20.382161200Z"
    }
   },
   "outputs": [
    {
     "name": "stdout",
     "output_type": "stream",
     "text": [
      "(10000, 15)\n",
      "Index(['Year', 'Age_Group', 'Gender', 'Smoking_Prevalence',\n",
      "       'Drug_Experimentation', 'Socioeconomic_Status', 'Peer_Influence',\n",
      "       'School_Programs', 'Family_Background', 'Mental_Health',\n",
      "       'Access_to_Counseling', 'Parental_Supervision', 'Substance_Education',\n",
      "       'Community_Support', 'Media_Influence'],\n",
      "      dtype='object')\n",
      "Year                      int64\n",
      "Age_Group                object\n",
      "Gender                   object\n",
      "Smoking_Prevalence      float64\n",
      "Drug_Experimentation    float64\n",
      "Socioeconomic_Status     object\n",
      "Peer_Influence            int64\n",
      "School_Programs          object\n",
      "Family_Background         int64\n",
      "Mental_Health             int64\n",
      "Access_to_Counseling     object\n",
      "Parental_Supervision      int64\n",
      "Substance_Education      object\n",
      "Community_Support         int64\n",
      "Media_Influence           int64\n",
      "dtype: object\n"
     ]
    }
   ],
   "source": [
    "# Load the CSV and display data\n",
    "df = pd.read_csv(\"data/youth_smoking_drug_data_10000_rows_expanded.csv\")\n",
    "\n",
    "print(df.shape)\n",
    "print(df.columns)\n",
    "print(df.dtypes)\n"
   ]
  },
  {
   "cell_type": "code",
   "execution_count": 3,
   "metadata": {
    "collapsed": false,
    "ExecuteTime": {
     "end_time": "2024-12-14T16:28:20.467405400Z",
     "start_time": "2024-12-14T16:28:20.429965500Z"
    }
   },
   "outputs": [
    {
     "name": "stdout",
     "output_type": "stream",
     "text": [
      "(10000, 15)\n",
      "<class 'pandas.core.frame.DataFrame'>\n",
      "RangeIndex: 10000 entries, 0 to 9999\n",
      "Data columns (total 15 columns):\n",
      " #   Column                Non-Null Count  Dtype  \n",
      "---  ------                --------------  -----  \n",
      " 0   Year                  10000 non-null  int64  \n",
      " 1   Age_Group             10000 non-null  object \n",
      " 2   Gender                10000 non-null  object \n",
      " 3   Smoking_Prevalence    10000 non-null  float64\n",
      " 4   Drug_Experimentation  10000 non-null  float64\n",
      " 5   Socioeconomic_Status  10000 non-null  object \n",
      " 6   Peer_Influence        10000 non-null  int64  \n",
      " 7   School_Programs       10000 non-null  object \n",
      " 8   Family_Background     10000 non-null  int64  \n",
      " 9   Mental_Health         10000 non-null  int64  \n",
      " 10  Access_to_Counseling  10000 non-null  object \n",
      " 11  Parental_Supervision  10000 non-null  int64  \n",
      " 12  Substance_Education   10000 non-null  object \n",
      " 13  Community_Support     10000 non-null  int64  \n",
      " 14  Media_Influence       10000 non-null  int64  \n",
      "dtypes: float64(2), int64(7), object(6)\n",
      "memory usage: 1.1+ MB\n",
      "None\n",
      "\n",
      " Before filling missing values\n",
      "Year                    0\n",
      "Age_Group               0\n",
      "Gender                  0\n",
      "Smoking_Prevalence      0\n",
      "Drug_Experimentation    0\n",
      "Socioeconomic_Status    0\n",
      "Peer_Influence          0\n",
      "School_Programs         0\n",
      "Family_Background       0\n",
      "Mental_Health           0\n",
      "Access_to_Counseling    0\n",
      "Parental_Supervision    0\n",
      "Substance_Education     0\n",
      "Community_Support       0\n",
      "Media_Influence         0\n",
      "dtype: int64\n",
      "\n",
      " After filling missing values\n"
     ]
    }
   ],
   "source": [
    "# Missing values handling\n",
    "print(df.shape)\n",
    "print(df.info())\n",
    "print(f'\\n Before filling missing values')\n",
    "print(df.isna().sum())\n",
    "df = df.dropna()\n",
    "print(f'\\n After filling missing values')\n",
    "print(f'\\n')\n"
   ]
  },
  {
   "cell_type": "code",
   "execution_count": 4,
   "outputs": [
    {
     "name": "stdout",
     "output_type": "stream",
     "text": [
      "Unique values in column 'Age_Group':\n",
      "['15-19' '10-14' '40-49' '70-79' '30-39' '60-69' '50-59' '25-29' '80+'\n",
      " '20-24']\n",
      "\n",
      "Unique values in column 'Gender':\n",
      "['Both' 'Female' 'Male']\n",
      "\n",
      "Unique values in column 'Socioeconomic_Status':\n",
      "['High' 'Middle' 'Low']\n",
      "\n",
      "Unique values in column 'School_Programs':\n",
      "['Yes' 'No']\n",
      "\n",
      "Unique values in column 'Access_to_Counseling':\n",
      "['No' 'Yes']\n",
      "\n",
      "Unique values in column 'Substance_Education':\n",
      "['No' 'Yes']\n",
      "\n",
      "Unique values in column 'Year':\n",
      "[2024 2023 2022 2021 2020]\n",
      "\n",
      "Unique values in column 'Peer_Influence':\n",
      "[ 5  6 10  1  4  9  2  8  3  7]\n",
      "\n",
      "Unique values in column 'Family_Background':\n",
      "[ 1 10  2  9  7  3  5  8  4  6]\n",
      "\n",
      "Unique values in column 'Mental_Health':\n",
      "[ 5  7  4  1  2  6  3 10  9  8]\n",
      "\n",
      "Unique values in column 'Parental_Supervision':\n",
      "[ 4  9  2  5 10  1  8  7  6  3]\n",
      "\n",
      "Unique values in column 'Community_Support':\n",
      "[ 3  9  5 10  4  2  1  8  6  7]\n",
      "\n",
      "Unique values in column 'Media_Influence':\n",
      "[ 1  3  9  2 10  6  4  8  7  5]\n"
     ]
    }
   ],
   "source": [
    "#Searching for outliers\n",
    "categorical_cols = df.select_dtypes(include='object').columns\n",
    "for col in categorical_cols:\n",
    "    print(f\"Unique values in column '{col}':\")\n",
    "    print(df[col].unique())\n",
    "    print()\n",
    "\n",
    "numerical_columns = df.select_dtypes(include='number').columns.drop(['Smoking_Prevalence', 'Drug_Experimentation'])\n",
    "for col in numerical_columns:\n",
    "    print(f\"Unique values in column '{col}':\")\n",
    "    print(df[col].unique())\n",
    "    print()\n",
    "\n",
    "exam_outliers = df[df['Smoking_Prevalence'] < 0] #1525 row > 100\n",
    "drug_outliers = df[df['Drug_Experimentation'] < 0] # No rows for more than 100 or less than 0"
   ],
   "metadata": {
    "collapsed": false,
    "ExecuteTime": {
     "end_time": "2024-12-14T16:28:20.729939800Z",
     "start_time": "2024-12-14T16:28:20.468406300Z"
    }
   }
  },
  {
   "cell_type": "code",
   "execution_count": 5,
   "outputs": [],
   "source": [
    "# Changing data types from object to category type\n",
    "# Adding mental resistance factor, based on mental health and peer influence\n",
    "df['Age_Group'] = df['Age_Group'].astype('category')\n",
    "df['Gender'] = df['Gender'].astype('category')\n",
    "df['Socioeconomic_Status'] = df['Socioeconomic_Status'].astype('category')\n",
    "df['School_Programs'] = df['School_Programs'].astype('category')\n",
    "df['Access_to_Counseling'] = df['Access_to_Counseling'].astype('category')\n",
    "df['Substance_Education'] = df['Substance_Education'].astype('category')\n",
    "df['Mental_Resistance_Factor'] = (df['Mental_Health'] * df['Peer_Influence'])"
   ],
   "metadata": {
    "collapsed": false,
    "ExecuteTime": {
     "end_time": "2024-12-14T16:28:20.831516700Z",
     "start_time": "2024-12-14T16:28:20.734866Z"
    }
   }
  },
  {
   "cell_type": "code",
   "execution_count": 16,
   "outputs": [],
   "source": [
    "# Bulding model, that predicts drug_experimentation from 0-1, using all features\n",
    "# Necessary pre-data processing steps\n",
    "\n",
    "X = df[['Year', 'Age_Group', 'Gender', 'Smoking_Prevalence', 'Socioeconomic_Status',\n",
    "        'Peer_Influence', 'School_Programs', 'Family_Background', 'Mental_Health',\n",
    "        'Access_to_Counseling', 'Parental_Supervision', 'Substance_Education',\n",
    "        'Community_Support', 'Media_Influence']]\n",
    "\n",
    "\n",
    "threshold = 40 # more than > threshold group is considered as high-risk for drug experimentation\n",
    "y = (df['Drug_Experimentation'] > threshold).astype(int)  # 1 = high risk, 0 = low risk\n",
    "\n",
    "le = LabelEncoder()\n",
    "X.loc[:, 'Age_Group'] = le.fit_transform(X['Age_Group'])\n",
    "X.loc[:, 'Gender'] = le.fit_transform(X['Gender'])\n",
    "X.loc[:, 'Socioeconomic_Status'] = le.fit_transform(X['Socioeconomic_Status'])\n",
    "X.loc[:, 'School_Programs'] = le.fit_transform(X['School_Programs'])\n",
    "X.loc[:, 'Family_Background'] = le.fit_transform(X['Family_Background'])\n",
    "X.loc[:, 'Mental_Health'] = le.fit_transform(X['Mental_Health'])\n",
    "X.loc[:, 'Access_to_Counseling'] = le.fit_transform(X['Access_to_Counseling'])\n",
    "X.loc[:, 'Parental_Supervision'] = le.fit_transform(X['Parental_Supervision'])\n",
    "X.loc[:, 'Substance_Education'] = le.fit_transform(X['Substance_Education'])\n",
    "X.loc[:, 'Community_Support'] = le.fit_transform(X['Community_Support'])\n",
    "X.loc[:, 'Media_Influence'] = le.fit_transform(X['Media_Influence'])\n"
   ],
   "metadata": {
    "collapsed": false,
    "ExecuteTime": {
     "end_time": "2024-12-14T16:30:31.529511300Z",
     "start_time": "2024-12-14T16:30:31.473230900Z"
    }
   }
  },
  {
   "cell_type": "code",
   "execution_count": 17,
   "outputs": [],
   "source": [
    "# Train - Validaton - Test splits\n",
    "X_train_val, X_test, y_train_val, y_test = train_test_split(X, y, test_size=0.25, random_state=42)\n",
    "\n",
    "X_train, X_val, y_train, y_val = train_test_split(X_train_val, y_train_val, test_size=0.2, random_state=42)"
   ],
   "metadata": {
    "collapsed": false,
    "ExecuteTime": {
     "end_time": "2024-12-14T16:30:34.853666900Z",
     "start_time": "2024-12-14T16:30:34.822323700Z"
    }
   }
  },
  {
   "cell_type": "code",
   "execution_count": 18,
   "outputs": [
    {
     "data": {
      "text/plain": "RandomForestClassifier(max_depth=7, max_features='log2', n_estimators=845,\n                       random_state=42)",
      "text/html": "<style>#sk-container-id-2 {\n  /* Definition of color scheme common for light and dark mode */\n  --sklearn-color-text: black;\n  --sklearn-color-line: gray;\n  /* Definition of color scheme for unfitted estimators */\n  --sklearn-color-unfitted-level-0: #fff5e6;\n  --sklearn-color-unfitted-level-1: #f6e4d2;\n  --sklearn-color-unfitted-level-2: #ffe0b3;\n  --sklearn-color-unfitted-level-3: chocolate;\n  /* Definition of color scheme for fitted estimators */\n  --sklearn-color-fitted-level-0: #f0f8ff;\n  --sklearn-color-fitted-level-1: #d4ebff;\n  --sklearn-color-fitted-level-2: #b3dbfd;\n  --sklearn-color-fitted-level-3: cornflowerblue;\n\n  /* Specific color for light theme */\n  --sklearn-color-text-on-default-background: var(--sg-text-color, var(--theme-code-foreground, var(--jp-content-font-color1, black)));\n  --sklearn-color-background: var(--sg-background-color, var(--theme-background, var(--jp-layout-color0, white)));\n  --sklearn-color-border-box: var(--sg-text-color, var(--theme-code-foreground, var(--jp-content-font-color1, black)));\n  --sklearn-color-icon: #696969;\n\n  @media (prefers-color-scheme: dark) {\n    /* Redefinition of color scheme for dark theme */\n    --sklearn-color-text-on-default-background: var(--sg-text-color, var(--theme-code-foreground, var(--jp-content-font-color1, white)));\n    --sklearn-color-background: var(--sg-background-color, var(--theme-background, var(--jp-layout-color0, #111)));\n    --sklearn-color-border-box: var(--sg-text-color, var(--theme-code-foreground, var(--jp-content-font-color1, white)));\n    --sklearn-color-icon: #878787;\n  }\n}\n\n#sk-container-id-2 {\n  color: var(--sklearn-color-text);\n}\n\n#sk-container-id-2 pre {\n  padding: 0;\n}\n\n#sk-container-id-2 input.sk-hidden--visually {\n  border: 0;\n  clip: rect(1px 1px 1px 1px);\n  clip: rect(1px, 1px, 1px, 1px);\n  height: 1px;\n  margin: -1px;\n  overflow: hidden;\n  padding: 0;\n  position: absolute;\n  width: 1px;\n}\n\n#sk-container-id-2 div.sk-dashed-wrapped {\n  border: 1px dashed var(--sklearn-color-line);\n  margin: 0 0.4em 0.5em 0.4em;\n  box-sizing: border-box;\n  padding-bottom: 0.4em;\n  background-color: var(--sklearn-color-background);\n}\n\n#sk-container-id-2 div.sk-container {\n  /* jupyter's `normalize.less` sets `[hidden] { display: none; }`\n     but bootstrap.min.css set `[hidden] { display: none !important; }`\n     so we also need the `!important` here to be able to override the\n     default hidden behavior on the sphinx rendered scikit-learn.org.\n     See: https://github.com/scikit-learn/scikit-learn/issues/21755 */\n  display: inline-block !important;\n  position: relative;\n}\n\n#sk-container-id-2 div.sk-text-repr-fallback {\n  display: none;\n}\n\ndiv.sk-parallel-item,\ndiv.sk-serial,\ndiv.sk-item {\n  /* draw centered vertical line to link estimators */\n  background-image: linear-gradient(var(--sklearn-color-text-on-default-background), var(--sklearn-color-text-on-default-background));\n  background-size: 2px 100%;\n  background-repeat: no-repeat;\n  background-position: center center;\n}\n\n/* Parallel-specific style estimator block */\n\n#sk-container-id-2 div.sk-parallel-item::after {\n  content: \"\";\n  width: 100%;\n  border-bottom: 2px solid var(--sklearn-color-text-on-default-background);\n  flex-grow: 1;\n}\n\n#sk-container-id-2 div.sk-parallel {\n  display: flex;\n  align-items: stretch;\n  justify-content: center;\n  background-color: var(--sklearn-color-background);\n  position: relative;\n}\n\n#sk-container-id-2 div.sk-parallel-item {\n  display: flex;\n  flex-direction: column;\n}\n\n#sk-container-id-2 div.sk-parallel-item:first-child::after {\n  align-self: flex-end;\n  width: 50%;\n}\n\n#sk-container-id-2 div.sk-parallel-item:last-child::after {\n  align-self: flex-start;\n  width: 50%;\n}\n\n#sk-container-id-2 div.sk-parallel-item:only-child::after {\n  width: 0;\n}\n\n/* Serial-specific style estimator block */\n\n#sk-container-id-2 div.sk-serial {\n  display: flex;\n  flex-direction: column;\n  align-items: center;\n  background-color: var(--sklearn-color-background);\n  padding-right: 1em;\n  padding-left: 1em;\n}\n\n\n/* Toggleable style: style used for estimator/Pipeline/ColumnTransformer box that is\nclickable and can be expanded/collapsed.\n- Pipeline and ColumnTransformer use this feature and define the default style\n- Estimators will overwrite some part of the style using the `sk-estimator` class\n*/\n\n/* Pipeline and ColumnTransformer style (default) */\n\n#sk-container-id-2 div.sk-toggleable {\n  /* Default theme specific background. It is overwritten whether we have a\n  specific estimator or a Pipeline/ColumnTransformer */\n  background-color: var(--sklearn-color-background);\n}\n\n/* Toggleable label */\n#sk-container-id-2 label.sk-toggleable__label {\n  cursor: pointer;\n  display: block;\n  width: 100%;\n  margin-bottom: 0;\n  padding: 0.5em;\n  box-sizing: border-box;\n  text-align: center;\n}\n\n#sk-container-id-2 label.sk-toggleable__label-arrow:before {\n  /* Arrow on the left of the label */\n  content: \"▸\";\n  float: left;\n  margin-right: 0.25em;\n  color: var(--sklearn-color-icon);\n}\n\n#sk-container-id-2 label.sk-toggleable__label-arrow:hover:before {\n  color: var(--sklearn-color-text);\n}\n\n/* Toggleable content - dropdown */\n\n#sk-container-id-2 div.sk-toggleable__content {\n  max-height: 0;\n  max-width: 0;\n  overflow: hidden;\n  text-align: left;\n  /* unfitted */\n  background-color: var(--sklearn-color-unfitted-level-0);\n}\n\n#sk-container-id-2 div.sk-toggleable__content.fitted {\n  /* fitted */\n  background-color: var(--sklearn-color-fitted-level-0);\n}\n\n#sk-container-id-2 div.sk-toggleable__content pre {\n  margin: 0.2em;\n  border-radius: 0.25em;\n  color: var(--sklearn-color-text);\n  /* unfitted */\n  background-color: var(--sklearn-color-unfitted-level-0);\n}\n\n#sk-container-id-2 div.sk-toggleable__content.fitted pre {\n  /* unfitted */\n  background-color: var(--sklearn-color-fitted-level-0);\n}\n\n#sk-container-id-2 input.sk-toggleable__control:checked~div.sk-toggleable__content {\n  /* Expand drop-down */\n  max-height: 200px;\n  max-width: 100%;\n  overflow: auto;\n}\n\n#sk-container-id-2 input.sk-toggleable__control:checked~label.sk-toggleable__label-arrow:before {\n  content: \"▾\";\n}\n\n/* Pipeline/ColumnTransformer-specific style */\n\n#sk-container-id-2 div.sk-label input.sk-toggleable__control:checked~label.sk-toggleable__label {\n  color: var(--sklearn-color-text);\n  background-color: var(--sklearn-color-unfitted-level-2);\n}\n\n#sk-container-id-2 div.sk-label.fitted input.sk-toggleable__control:checked~label.sk-toggleable__label {\n  background-color: var(--sklearn-color-fitted-level-2);\n}\n\n/* Estimator-specific style */\n\n/* Colorize estimator box */\n#sk-container-id-2 div.sk-estimator input.sk-toggleable__control:checked~label.sk-toggleable__label {\n  /* unfitted */\n  background-color: var(--sklearn-color-unfitted-level-2);\n}\n\n#sk-container-id-2 div.sk-estimator.fitted input.sk-toggleable__control:checked~label.sk-toggleable__label {\n  /* fitted */\n  background-color: var(--sklearn-color-fitted-level-2);\n}\n\n#sk-container-id-2 div.sk-label label.sk-toggleable__label,\n#sk-container-id-2 div.sk-label label {\n  /* The background is the default theme color */\n  color: var(--sklearn-color-text-on-default-background);\n}\n\n/* On hover, darken the color of the background */\n#sk-container-id-2 div.sk-label:hover label.sk-toggleable__label {\n  color: var(--sklearn-color-text);\n  background-color: var(--sklearn-color-unfitted-level-2);\n}\n\n/* Label box, darken color on hover, fitted */\n#sk-container-id-2 div.sk-label.fitted:hover label.sk-toggleable__label.fitted {\n  color: var(--sklearn-color-text);\n  background-color: var(--sklearn-color-fitted-level-2);\n}\n\n/* Estimator label */\n\n#sk-container-id-2 div.sk-label label {\n  font-family: monospace;\n  font-weight: bold;\n  display: inline-block;\n  line-height: 1.2em;\n}\n\n#sk-container-id-2 div.sk-label-container {\n  text-align: center;\n}\n\n/* Estimator-specific */\n#sk-container-id-2 div.sk-estimator {\n  font-family: monospace;\n  border: 1px dotted var(--sklearn-color-border-box);\n  border-radius: 0.25em;\n  box-sizing: border-box;\n  margin-bottom: 0.5em;\n  /* unfitted */\n  background-color: var(--sklearn-color-unfitted-level-0);\n}\n\n#sk-container-id-2 div.sk-estimator.fitted {\n  /* fitted */\n  background-color: var(--sklearn-color-fitted-level-0);\n}\n\n/* on hover */\n#sk-container-id-2 div.sk-estimator:hover {\n  /* unfitted */\n  background-color: var(--sklearn-color-unfitted-level-2);\n}\n\n#sk-container-id-2 div.sk-estimator.fitted:hover {\n  /* fitted */\n  background-color: var(--sklearn-color-fitted-level-2);\n}\n\n/* Specification for estimator info (e.g. \"i\" and \"?\") */\n\n/* Common style for \"i\" and \"?\" */\n\n.sk-estimator-doc-link,\na:link.sk-estimator-doc-link,\na:visited.sk-estimator-doc-link {\n  float: right;\n  font-size: smaller;\n  line-height: 1em;\n  font-family: monospace;\n  background-color: var(--sklearn-color-background);\n  border-radius: 1em;\n  height: 1em;\n  width: 1em;\n  text-decoration: none !important;\n  margin-left: 1ex;\n  /* unfitted */\n  border: var(--sklearn-color-unfitted-level-1) 1pt solid;\n  color: var(--sklearn-color-unfitted-level-1);\n}\n\n.sk-estimator-doc-link.fitted,\na:link.sk-estimator-doc-link.fitted,\na:visited.sk-estimator-doc-link.fitted {\n  /* fitted */\n  border: var(--sklearn-color-fitted-level-1) 1pt solid;\n  color: var(--sklearn-color-fitted-level-1);\n}\n\n/* On hover */\ndiv.sk-estimator:hover .sk-estimator-doc-link:hover,\n.sk-estimator-doc-link:hover,\ndiv.sk-label-container:hover .sk-estimator-doc-link:hover,\n.sk-estimator-doc-link:hover {\n  /* unfitted */\n  background-color: var(--sklearn-color-unfitted-level-3);\n  color: var(--sklearn-color-background);\n  text-decoration: none;\n}\n\ndiv.sk-estimator.fitted:hover .sk-estimator-doc-link.fitted:hover,\n.sk-estimator-doc-link.fitted:hover,\ndiv.sk-label-container:hover .sk-estimator-doc-link.fitted:hover,\n.sk-estimator-doc-link.fitted:hover {\n  /* fitted */\n  background-color: var(--sklearn-color-fitted-level-3);\n  color: var(--sklearn-color-background);\n  text-decoration: none;\n}\n\n/* Span, style for the box shown on hovering the info icon */\n.sk-estimator-doc-link span {\n  display: none;\n  z-index: 9999;\n  position: relative;\n  font-weight: normal;\n  right: .2ex;\n  padding: .5ex;\n  margin: .5ex;\n  width: min-content;\n  min-width: 20ex;\n  max-width: 50ex;\n  color: var(--sklearn-color-text);\n  box-shadow: 2pt 2pt 4pt #999;\n  /* unfitted */\n  background: var(--sklearn-color-unfitted-level-0);\n  border: .5pt solid var(--sklearn-color-unfitted-level-3);\n}\n\n.sk-estimator-doc-link.fitted span {\n  /* fitted */\n  background: var(--sklearn-color-fitted-level-0);\n  border: var(--sklearn-color-fitted-level-3);\n}\n\n.sk-estimator-doc-link:hover span {\n  display: block;\n}\n\n/* \"?\"-specific style due to the `<a>` HTML tag */\n\n#sk-container-id-2 a.estimator_doc_link {\n  float: right;\n  font-size: 1rem;\n  line-height: 1em;\n  font-family: monospace;\n  background-color: var(--sklearn-color-background);\n  border-radius: 1rem;\n  height: 1rem;\n  width: 1rem;\n  text-decoration: none;\n  /* unfitted */\n  color: var(--sklearn-color-unfitted-level-1);\n  border: var(--sklearn-color-unfitted-level-1) 1pt solid;\n}\n\n#sk-container-id-2 a.estimator_doc_link.fitted {\n  /* fitted */\n  border: var(--sklearn-color-fitted-level-1) 1pt solid;\n  color: var(--sklearn-color-fitted-level-1);\n}\n\n/* On hover */\n#sk-container-id-2 a.estimator_doc_link:hover {\n  /* unfitted */\n  background-color: var(--sklearn-color-unfitted-level-3);\n  color: var(--sklearn-color-background);\n  text-decoration: none;\n}\n\n#sk-container-id-2 a.estimator_doc_link.fitted:hover {\n  /* fitted */\n  background-color: var(--sklearn-color-fitted-level-3);\n}\n</style><div id=\"sk-container-id-2\" class=\"sk-top-container\"><div class=\"sk-text-repr-fallback\"><pre>RandomForestClassifier(max_depth=7, max_features=&#x27;log2&#x27;, n_estimators=845,\n                       random_state=42)</pre><b>In a Jupyter environment, please rerun this cell to show the HTML representation or trust the notebook. <br />On GitHub, the HTML representation is unable to render, please try loading this page with nbviewer.org.</b></div><div class=\"sk-container\" hidden><div class=\"sk-item\"><div class=\"sk-estimator fitted sk-toggleable\"><input class=\"sk-toggleable__control sk-hidden--visually\" id=\"sk-estimator-id-2\" type=\"checkbox\" checked><label for=\"sk-estimator-id-2\" class=\"sk-toggleable__label fitted sk-toggleable__label-arrow fitted\">&nbsp;&nbsp;RandomForestClassifier<a class=\"sk-estimator-doc-link fitted\" rel=\"noreferrer\" target=\"_blank\" href=\"https://scikit-learn.org/1.4/modules/generated/sklearn.ensemble.RandomForestClassifier.html\">?<span>Documentation for RandomForestClassifier</span></a><span class=\"sk-estimator-doc-link fitted\">i<span>Fitted</span></span></label><div class=\"sk-toggleable__content fitted\"><pre>RandomForestClassifier(max_depth=7, max_features=&#x27;log2&#x27;, n_estimators=845,\n                       random_state=42)</pre></div> </div></div></div></div>"
     },
     "execution_count": 18,
     "metadata": {},
     "output_type": "execute_result"
    }
   ],
   "source": [
    "# Train and build model\n",
    "# Best parameters were found by Bayesian optimization, these are best params for predicting Drug_experimentation\n",
    "rf_model = RandomForestClassifier(n_estimators=845, max_depth=7, max_features='log2', random_state=42)\n",
    "rf_model.fit(X_train, y_train)"
   ],
   "metadata": {
    "collapsed": false,
    "ExecuteTime": {
     "end_time": "2024-12-14T16:30:40.761253700Z",
     "start_time": "2024-12-14T16:30:35.329959900Z"
    }
   }
  },
  {
   "cell_type": "code",
   "execution_count": 19,
   "outputs": [],
   "source": [
    "# Model predictions\n",
    "y_val_pred = rf_model.predict(X_val)\n",
    "\n",
    "y_test_pred = rf_model.predict(X_test)"
   ],
   "metadata": {
    "collapsed": false,
    "ExecuteTime": {
     "end_time": "2024-12-14T16:30:41.041226600Z",
     "start_time": "2024-12-14T16:30:40.761253700Z"
    }
   }
  },
  {
   "cell_type": "code",
   "execution_count": 20,
   "outputs": [
    {
     "name": "stdout",
     "output_type": "stream",
     "text": [
      "Validation Accuracy: 47.20%\n",
      "Test Accuracy: 50.80%\n",
      "\n",
      "Classification Report (Validation Set):\n",
      "              precision    recall  f1-score   support\n",
      "\n",
      "           0       0.49      0.38      0.43       777\n",
      "           1       0.46      0.57      0.51       723\n",
      "\n",
      "    accuracy                           0.47      1500\n",
      "   macro avg       0.47      0.48      0.47      1500\n",
      "weighted avg       0.47      0.47      0.47      1500\n",
      "\n",
      "\n",
      "Classification Report (Test Set):\n",
      "              precision    recall  f1-score   support\n",
      "\n",
      "           0       0.51      0.38      0.43      1248\n",
      "           1       0.51      0.64      0.57      1252\n",
      "\n",
      "    accuracy                           0.51      2500\n",
      "   macro avg       0.51      0.51      0.50      2500\n",
      "weighted avg       0.51      0.51      0.50      2500\n"
     ]
    }
   ],
   "source": [
    "# Accuracy and confusion matrix for validation and test datasets comparing with predicted values\n",
    "accuracy_val = accuracy_score(y_val, y_val_pred)\n",
    "print(f'Validation Accuracy: {accuracy_val * 100:.2f}%')\n",
    "\n",
    "accuracy_test = accuracy_score(y_test, y_test_pred)\n",
    "print(f'Test Accuracy: {accuracy_test * 100:.2f}%')\n",
    "\n",
    "print('\\nClassification Report (Validation Set):')\n",
    "print(classification_report(y_val, y_val_pred))\n",
    "\n",
    "print('\\nClassification Report (Test Set):')\n",
    "print(classification_report(y_test, y_test_pred))"
   ],
   "metadata": {
    "collapsed": false,
    "ExecuteTime": {
     "end_time": "2024-12-14T16:30:41.131257800Z",
     "start_time": "2024-12-14T16:30:41.045381300Z"
    }
   }
  },
  {
   "cell_type": "code",
   "execution_count": 11,
   "outputs": [
    {
     "name": "stdout",
     "output_type": "stream",
     "text": [
      "Re-trained model Test Accuracy: 82.08%\n",
      "\n",
      "Classification Report (Test Set after Retraining):\n",
      "              precision    recall  f1-score   support\n",
      "\n",
      "           0       0.00      0.00      0.00       448\n",
      "           1       0.82      1.00      0.90      2052\n",
      "\n",
      "    accuracy                           0.82      2500\n",
      "   macro avg       0.41      0.50      0.45      2500\n",
      "weighted avg       0.67      0.82      0.74      2500\n"
     ]
    },
    {
     "name": "stderr",
     "output_type": "stream",
     "text": [
      "C:\\Users\\42191\\AppData\\Local\\Programs\\Python\\Python39\\lib\\site-packages\\sklearn\\base.py:486: UserWarning: X has feature names, but RandomForestClassifier was fitted without feature names\n",
      "  warnings.warn(\n",
      "C:\\Users\\42191\\AppData\\Local\\Programs\\Python\\Python39\\lib\\site-packages\\sklearn\\metrics\\_classification.py:1509: UndefinedMetricWarning: Precision is ill-defined and being set to 0.0 in labels with no predicted samples. Use `zero_division` parameter to control this behavior.\n",
      "  _warn_prf(average, modifier, f\"{metric.capitalize()} is\", len(result))\n",
      "C:\\Users\\42191\\AppData\\Local\\Programs\\Python\\Python39\\lib\\site-packages\\sklearn\\metrics\\_classification.py:1509: UndefinedMetricWarning: Precision is ill-defined and being set to 0.0 in labels with no predicted samples. Use `zero_division` parameter to control this behavior.\n",
      "  _warn_prf(average, modifier, f\"{metric.capitalize()} is\", len(result))\n",
      "C:\\Users\\42191\\AppData\\Local\\Programs\\Python\\Python39\\lib\\site-packages\\sklearn\\metrics\\_classification.py:1509: UndefinedMetricWarning: Precision is ill-defined and being set to 0.0 in labels with no predicted samples. Use `zero_division` parameter to control this behavior.\n",
      "  _warn_prf(average, modifier, f\"{metric.capitalize()} is\", len(result))\n"
     ]
    }
   ],
   "source": [
    "# Concat train,validation dataset and re-training model with identical parameters\n",
    "X_train_full = np.concatenate([X_train, X_val], axis=0)\n",
    "y_train_full = np.concatenate([y_train, y_val], axis=0)\n",
    "\n",
    "rf_model.fit(X_train_full, y_train_full)\n",
    "\n",
    "y_test_pred_full = rf_model.predict(X_test)\n",
    "\n",
    "accuracy_test_full = accuracy_score(y_test, y_test_pred_full)\n",
    "print(f'Re-trained model Test Accuracy: {accuracy_test_full * 100:.2f}%')\n",
    "\n",
    "print('\\nClassification Report (Test Set after Retraining):')\n",
    "print(classification_report(y_test, y_test_pred_full))\n"
   ],
   "metadata": {
    "collapsed": false,
    "ExecuteTime": {
     "end_time": "2024-12-14T16:28:28.639003100Z",
     "start_time": "2024-12-14T16:28:24.366193400Z"
    }
   }
  },
  {
   "cell_type": "code",
   "execution_count": 12,
   "outputs": [
    {
     "name": "stdout",
     "output_type": "stream",
     "text": [
      "Validation Accuracy: 65.40%\n",
      "Test Accuracy: 66.96%\n",
      "\n",
      "Classification Report (Validation Set):\n",
      "              precision    recall  f1-score   support\n",
      "\n",
      "           0       0.00      0.00      0.00       519\n",
      "           1       0.65      1.00      0.79       981\n",
      "\n",
      "    accuracy                           0.65      1500\n",
      "   macro avg       0.33      0.50      0.40      1500\n",
      "weighted avg       0.43      0.65      0.52      1500\n",
      "\n",
      "\n",
      "Classification Report (Test Set):\n",
      "              precision    recall  f1-score   support\n",
      "\n",
      "           0       0.00      0.00      0.00       826\n",
      "           1       0.67      1.00      0.80      1674\n",
      "\n",
      "    accuracy                           0.67      2500\n",
      "   macro avg       0.33      0.50      0.40      2500\n",
      "weighted avg       0.45      0.67      0.54      2500\n"
     ]
    },
    {
     "name": "stderr",
     "output_type": "stream",
     "text": [
      "C:\\Users\\42191\\AppData\\Local\\Programs\\Python\\Python39\\lib\\site-packages\\sklearn\\metrics\\_classification.py:1509: UndefinedMetricWarning: Precision is ill-defined and being set to 0.0 in labels with no predicted samples. Use `zero_division` parameter to control this behavior.\n",
      "  _warn_prf(average, modifier, f\"{metric.capitalize()} is\", len(result))\n",
      "C:\\Users\\42191\\AppData\\Local\\Programs\\Python\\Python39\\lib\\site-packages\\sklearn\\metrics\\_classification.py:1509: UndefinedMetricWarning: Precision is ill-defined and being set to 0.0 in labels with no predicted samples. Use `zero_division` parameter to control this behavior.\n",
      "  _warn_prf(average, modifier, f\"{metric.capitalize()} is\", len(result))\n",
      "C:\\Users\\42191\\AppData\\Local\\Programs\\Python\\Python39\\lib\\site-packages\\sklearn\\metrics\\_classification.py:1509: UndefinedMetricWarning: Precision is ill-defined and being set to 0.0 in labels with no predicted samples. Use `zero_division` parameter to control this behavior.\n",
      "  _warn_prf(average, modifier, f\"{metric.capitalize()} is\", len(result))\n",
      "C:\\Users\\42191\\AppData\\Local\\Programs\\Python\\Python39\\lib\\site-packages\\sklearn\\metrics\\_classification.py:1509: UndefinedMetricWarning: Precision is ill-defined and being set to 0.0 in labels with no predicted samples. Use `zero_division` parameter to control this behavior.\n",
      "  _warn_prf(average, modifier, f\"{metric.capitalize()} is\", len(result))\n",
      "C:\\Users\\42191\\AppData\\Local\\Programs\\Python\\Python39\\lib\\site-packages\\sklearn\\metrics\\_classification.py:1509: UndefinedMetricWarning: Precision is ill-defined and being set to 0.0 in labels with no predicted samples. Use `zero_division` parameter to control this behavior.\n",
      "  _warn_prf(average, modifier, f\"{metric.capitalize()} is\", len(result))\n",
      "C:\\Users\\42191\\AppData\\Local\\Programs\\Python\\Python39\\lib\\site-packages\\sklearn\\metrics\\_classification.py:1509: UndefinedMetricWarning: Precision is ill-defined and being set to 0.0 in labels with no predicted samples. Use `zero_division` parameter to control this behavior.\n",
      "  _warn_prf(average, modifier, f\"{metric.capitalize()} is\", len(result))\n"
     ]
    }
   ],
   "source": [
    "# Same thing can be applied for Smoking_Prevalence\n",
    "# Best parameters found with bayesian optimatization were with threshold set to 20:\n",
    "# n_estimators': 895, 'max_depth': 9, 'max_features': 'sqrt'\n",
    "\n",
    "X = df[['Year', 'Age_Group', 'Gender', 'Smoking_Prevalence', 'Socioeconomic_Status',\n",
    "        'Peer_Influence', 'School_Programs', 'Family_Background', 'Mental_Health',\n",
    "        'Access_to_Counseling', 'Parental_Supervision', 'Substance_Education',\n",
    "        'Community_Support', 'Media_Influence']]\n",
    "#Drug_Experimentation\n",
    "threshold = 30 # more than > threshold group is considered as high-risk for drug experimentation\n",
    "y = (df['Drug_Experimentation'] > threshold).astype(int)  # 1 = high risk, 0 = low risk\n",
    "\n",
    "le = LabelEncoder()\n",
    "X.loc[:, 'Age_Group'] = le.fit_transform(X['Age_Group'])\n",
    "X.loc[:, 'Gender'] = le.fit_transform(X['Gender'])\n",
    "X.loc[:, 'Socioeconomic_Status'] = le.fit_transform(X['Socioeconomic_Status'])\n",
    "X.loc[:, 'School_Programs'] = le.fit_transform(X['School_Programs'])\n",
    "X.loc[:, 'Family_Background'] = le.fit_transform(X['Family_Background'])\n",
    "X.loc[:, 'Mental_Health'] = le.fit_transform(X['Mental_Health'])\n",
    "X.loc[:, 'Access_to_Counseling'] = le.fit_transform(X['Access_to_Counseling'])\n",
    "X.loc[:, 'Parental_Supervision'] = le.fit_transform(X['Parental_Supervision'])\n",
    "X.loc[:, 'Substance_Education'] = le.fit_transform(X['Substance_Education'])\n",
    "X.loc[:, 'Community_Support'] = le.fit_transform(X['Community_Support'])\n",
    "X.loc[:, 'Media_Influence'] = le.fit_transform(X['Media_Influence'])\n",
    "\n",
    "X_train_val, X_test, y_train_val, y_test = train_test_split(X, y, test_size=0.25, random_state=42)\n",
    "\n",
    "X_train, X_val, y_train, y_val = train_test_split(X_train_val, y_train_val, test_size=0.2, random_state=42)\n",
    "\n",
    "rf_model = RandomForestClassifier(n_estimators=895, max_depth=9, max_features='sqrt', random_state=42)\n",
    "rf_model.fit(X_train, y_train)\n",
    "\n",
    "y_val_pred = rf_model.predict(X_val)\n",
    "\n",
    "y_test_pred = rf_model.predict(X_test)\n",
    "\n",
    "accuracy_val = accuracy_score(y_val, y_val_pred)\n",
    "print(f'Validation Accuracy: {accuracy_val * 100:.2f}%')\n",
    "\n",
    "accuracy_test = accuracy_score(y_test, y_test_pred)\n",
    "print(f'Test Accuracy: {accuracy_test * 100:.2f}%')\n",
    "\n",
    "print('\\nClassification Report (Validation Set):')\n",
    "print(classification_report(y_val, y_val_pred))\n",
    "\n",
    "print('\\nClassification Report (Test Set):')\n",
    "print(classification_report(y_test, y_test_pred))\n"
   ],
   "metadata": {
    "collapsed": false,
    "ExecuteTime": {
     "end_time": "2024-12-14T16:28:33.313471700Z",
     "start_time": "2024-12-14T16:28:28.625956700Z"
    }
   }
  },
  {
   "cell_type": "code",
   "execution_count": 13,
   "outputs": [
    {
     "name": "stdout",
     "output_type": "stream",
     "text": [
      "Optimal Threshold (Minimized False Positives): inf\n",
      "Validation Accuracy with Optimal Threshold: 34.60%\n",
      "Test Accuracy with Optimal Threshold: 33.04%\n",
      "ROC AUC Score: 0.51\n"
     ]
    },
    {
     "data": {
      "text/plain": "<Figure size 800x600 with 1 Axes>",
      "image/png": "[encoded data removed]"
     },
     "metadata": {},
     "output_type": "display_data"
    },
    {
     "name": "stdout",
     "output_type": "stream",
     "text": [
      "\n",
      "Classification Report (Validation Set) with Optimal Threshold:\n",
      "              precision    recall  f1-score   support\n",
      "\n",
      "           0       0.35      1.00      0.51       519\n",
      "           1       0.00      0.00      0.00       981\n",
      "\n",
      "    accuracy                           0.35      1500\n",
      "   macro avg       0.17      0.50      0.26      1500\n",
      "weighted avg       0.12      0.35      0.18      1500\n",
      "\n",
      "\n",
      "Classification Report (Test Set) with Optimal Threshold:\n",
      "              precision    recall  f1-score   support\n",
      "\n",
      "           0       0.33      1.00      0.50       826\n",
      "           1       0.00      0.00      0.00      1674\n",
      "\n",
      "    accuracy                           0.33      2500\n",
      "   macro avg       0.17      0.50      0.25      2500\n",
      "weighted avg       0.11      0.33      0.16      2500\n"
     ]
    },
    {
     "name": "stderr",
     "output_type": "stream",
     "text": [
      "C:\\Users\\42191\\AppData\\Local\\Programs\\Python\\Python39\\lib\\site-packages\\sklearn\\metrics\\_classification.py:1509: UndefinedMetricWarning: Precision is ill-defined and being set to 0.0 in labels with no predicted samples. Use `zero_division` parameter to control this behavior.\n",
      "  _warn_prf(average, modifier, f\"{metric.capitalize()} is\", len(result))\n",
      "C:\\Users\\42191\\AppData\\Local\\Programs\\Python\\Python39\\lib\\site-packages\\sklearn\\metrics\\_classification.py:1509: UndefinedMetricWarning: Precision is ill-defined and being set to 0.0 in labels with no predicted samples. Use `zero_division` parameter to control this behavior.\n",
      "  _warn_prf(average, modifier, f\"{metric.capitalize()} is\", len(result))\n",
      "C:\\Users\\42191\\AppData\\Local\\Programs\\Python\\Python39\\lib\\site-packages\\sklearn\\metrics\\_classification.py:1509: UndefinedMetricWarning: Precision is ill-defined and being set to 0.0 in labels with no predicted samples. Use `zero_division` parameter to control this behavior.\n",
      "  _warn_prf(average, modifier, f\"{metric.capitalize()} is\", len(result))\n",
      "C:\\Users\\42191\\AppData\\Local\\Programs\\Python\\Python39\\lib\\site-packages\\sklearn\\metrics\\_classification.py:1509: UndefinedMetricWarning: Precision is ill-defined and being set to 0.0 in labels with no predicted samples. Use `zero_division` parameter to control this behavior.\n",
      "  _warn_prf(average, modifier, f\"{metric.capitalize()} is\", len(result))\n",
      "C:\\Users\\42191\\AppData\\Local\\Programs\\Python\\Python39\\lib\\site-packages\\sklearn\\metrics\\_classification.py:1509: UndefinedMetricWarning: Precision is ill-defined and being set to 0.0 in labels with no predicted samples. Use `zero_division` parameter to control this behavior.\n",
      "  _warn_prf(average, modifier, f\"{metric.capitalize()} is\", len(result))\n",
      "C:\\Users\\42191\\AppData\\Local\\Programs\\Python\\Python39\\lib\\site-packages\\sklearn\\metrics\\_classification.py:1509: UndefinedMetricWarning: Precision is ill-defined and being set to 0.0 in labels with no predicted samples. Use `zero_division` parameter to control this behavior.\n",
      "  _warn_prf(average, modifier, f\"{metric.capitalize()} is\", len(result))\n"
     ]
    }
   ],
   "source": [
    "# finding optimal threshold using ROC\n",
    "y_val_proba = rf_model.predict_proba(X_val)[:, 1]  # Probabilities for the positive class\n",
    "y_test_proba = rf_model.predict_proba(X_test)[:, 1]  # Probabilities for the positive class\n",
    "\n",
    "# Calculate ROC curve\n",
    "fpr, tpr, thresholds = roc_curve(y_val, y_val_proba)\n",
    "\n",
    "# Find threshold with minimal false positive rate\n",
    "min_fpr_index = fpr.argmin()  # Index where FPR is minimal\n",
    "optimal_threshold = thresholds[min_fpr_index]\n",
    "\n",
    "# Print the optimal threshold\n",
    "print(f'Optimal Threshold (Minimized False Positives): {optimal_threshold}')\n",
    "\n",
    "# Get predictions with optimal threshold\n",
    "y_val_optimal_pred = (y_val_proba >= optimal_threshold).astype(int)\n",
    "y_test_optimal_pred = (y_test_proba >= optimal_threshold).astype(int)\n",
    "\n",
    "# Evaluate accuracy with optimal threshold\n",
    "accuracy_val_optimal = accuracy_score(y_val, y_val_optimal_pred)\n",
    "print(f'Validation Accuracy with Optimal Threshold: {accuracy_val_optimal * 100:.2f}%')\n",
    "\n",
    "accuracy_test_optimal = accuracy_score(y_test, y_test_optimal_pred)\n",
    "print(f'Test Accuracy with Optimal Threshold: {accuracy_test_optimal * 100:.2f}%')\n",
    "\n",
    "# ROC AUC score for reference\n",
    "roc_auc = roc_auc_score(y_val, y_val_proba)\n",
    "print(f'ROC AUC Score: {roc_auc:.2f}')\n",
    "\n",
    "# Plot ROC curve\n",
    "plt.figure(figsize=(8, 6))\n",
    "plt.plot(fpr, tpr, color='blue', label=f'ROC curve (AUC = {roc_auc:.2f})')\n",
    "plt.plot([0, 1], [0, 1], color='red', linestyle='--')  # Random classifier line\n",
    "plt.scatter(fpr[min_fpr_index], tpr[min_fpr_index], color='green', label=f'Optimal threshold: {optimal_threshold:.2f}')\n",
    "plt.title('Receiver Operating Characteristic (ROC) Curve')\n",
    "plt.xlabel('False Positive Rate (FPR)')\n",
    "plt.ylabel('True Positive Rate (TPR)')\n",
    "plt.legend(loc='lower right')\n",
    "plt.grid(True)\n",
    "plt.show()\n",
    "\n",
    "# Print the Classification Report with optimal threshold\n",
    "print('\\nClassification Report (Validation Set) with Optimal Threshold:')\n",
    "print(classification_report(y_val, y_val_optimal_pred))\n",
    "\n",
    "print('\\nClassification Report (Test Set) with Optimal Threshold:')\n",
    "print(classification_report(y_test, y_test_optimal_pred))"
   ],
   "metadata": {
    "collapsed": false,
    "ExecuteTime": {
     "end_time": "2024-12-14T16:28:34.244807500Z",
     "start_time": "2024-12-14T16:28:33.313169800Z"
    }
   }
  },
  {
   "cell_type": "code",
   "execution_count": 14,
   "outputs": [
    {
     "name": "stderr",
     "output_type": "stream",
     "text": [
      "C:\\Users\\42191\\AppData\\Local\\Programs\\Python\\Python39\\lib\\site-packages\\sklearn\\base.py:486: UserWarning: X has feature names, but RandomForestClassifier was fitted without feature names\n",
      "  warnings.warn(\n"
     ]
    },
    {
     "name": "stdout",
     "output_type": "stream",
     "text": [
      "Re-trained model Test Accuracy: 66.96%\n",
      "\n",
      "Classification Report (Test Set after Retraining):\n",
      "              precision    recall  f1-score   support\n",
      "\n",
      "           0       0.00      0.00      0.00       826\n",
      "           1       0.67      1.00      0.80      1674\n",
      "\n",
      "    accuracy                           0.67      2500\n",
      "   macro avg       0.33      0.50      0.40      2500\n",
      "weighted avg       0.45      0.67      0.54      2500\n"
     ]
    },
    {
     "name": "stderr",
     "output_type": "stream",
     "text": [
      "C:\\Users\\42191\\AppData\\Local\\Programs\\Python\\Python39\\lib\\site-packages\\sklearn\\metrics\\_classification.py:1509: UndefinedMetricWarning: Precision is ill-defined and being set to 0.0 in labels with no predicted samples. Use `zero_division` parameter to control this behavior.\n",
      "  _warn_prf(average, modifier, f\"{metric.capitalize()} is\", len(result))\n",
      "C:\\Users\\42191\\AppData\\Local\\Programs\\Python\\Python39\\lib\\site-packages\\sklearn\\metrics\\_classification.py:1509: UndefinedMetricWarning: Precision is ill-defined and being set to 0.0 in labels with no predicted samples. Use `zero_division` parameter to control this behavior.\n",
      "  _warn_prf(average, modifier, f\"{metric.capitalize()} is\", len(result))\n",
      "C:\\Users\\42191\\AppData\\Local\\Programs\\Python\\Python39\\lib\\site-packages\\sklearn\\metrics\\_classification.py:1509: UndefinedMetricWarning: Precision is ill-defined and being set to 0.0 in labels with no predicted samples. Use `zero_division` parameter to control this behavior.\n",
      "  _warn_prf(average, modifier, f\"{metric.capitalize()} is\", len(result))\n"
     ]
    }
   ],
   "source": [
    "# Concat test,validation dataset and perform model training \n",
    "X_train_full = np.concatenate([X_train, X_val], axis=0)\n",
    "y_train_full = np.concatenate([y_train, y_val], axis=0)\n",
    "\n",
    "rf_model.fit(X_train_full, y_train_full)\n",
    "\n",
    "y_test_pred_full = rf_model.predict(X_test)\n",
    "\n",
    "accuracy_test_full = accuracy_score(y_test, y_test_pred_full)\n",
    "print(f'Re-trained model Test Accuracy: {accuracy_test_full * 100:.2f}%')\n",
    "\n",
    "print('\\nClassification Report (Test Set after Retraining):')\n",
    "print(classification_report(y_test, y_test_pred_full))"
   ],
   "metadata": {
    "collapsed": false,
    "ExecuteTime": {
     "end_time": "2024-12-14T16:28:39.153762200Z",
     "start_time": "2024-12-14T16:28:34.049887400Z"
    }
   }
  },
  {
   "cell_type": "code",
   "execution_count": 15,
   "outputs": [
    {
     "name": "stdout",
     "output_type": "stream",
     "text": [
      "Accuracy of Random Classifier: 0.4984\n",
      "\n",
      "Classification Report (Random Classifier):\n",
      "              precision    recall  f1-score   support\n",
      "\n",
      "           0       0.33      0.51      0.40       826\n",
      "           1       0.67      0.49      0.57      1674\n",
      "\n",
      "    accuracy                           0.50      2500\n",
      "   macro avg       0.50      0.50      0.49      2500\n",
      "weighted avg       0.56      0.50      0.51      2500\n"
     ]
    }
   ],
   "source": [
    "# using random classifier, for baseline performance\n",
    "\n",
    "random_model = DummyClassifier(strategy='uniform', random_state=42)\n",
    "\n",
    "# Train the model\n",
    "random_model.fit(X_train, y_train)\n",
    "\n",
    "# Predictions\n",
    "y_random_pred = random_model.predict(X_test)\n",
    "\n",
    "# Evaluate the performance\n",
    "print(\"Accuracy of Random Classifier:\", accuracy_score(y_test, y_random_pred))\n",
    "print(\"\\nClassification Report (Random Classifier):\")\n",
    "print(classification_report(y_test, y_random_pred))"
   ],
   "metadata": {
    "collapsed": false,
    "ExecuteTime": {
     "end_time": "2024-12-14T16:28:39.247868Z",
     "start_time": "2024-12-14T16:28:39.149987400Z"
    }
   }
  },
  {
   "cell_type": "code",
   "execution_count": 15,
   "outputs": [],
   "source": [],
   "metadata": {
    "collapsed": false,
    "ExecuteTime": {
     "end_time": "2024-12-14T16:28:39.247868Z",
     "start_time": "2024-12-14T16:28:39.174152300Z"
    }
   }
  }
 ],
 "metadata": {
  "kernelspec": {
   "display_name": "Python 3 (ipykernel)",
   "language": "python",
   "name": "python3"
  },
  "language_info": {
   "codemirror_mode": {
    "name": "ipython",
    "version": 3
   },
   "file_extension": ".py",
   "mimetype": "text/x-python",
   "name": "python",
   "nbconvert_exporter": "python",
   "pygments_lexer": "ipython3",
   "version": "3.9.13"
  }
 },
 "nbformat": 4,
 "nbformat_minor": 4
}
